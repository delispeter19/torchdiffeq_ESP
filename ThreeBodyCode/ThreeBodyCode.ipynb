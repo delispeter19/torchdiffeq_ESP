{
 "cells": [
  {
   "cell_type": "code",
   "execution_count": 2,
   "metadata": {},
   "outputs": [],
   "source": [
    "import numpy as np\n",
    "import matplotlib.pyplot as plt\n",
    "from scipy.integrate import solve_ivp"
   ]
  },
  {
   "cell_type": "code",
   "execution_count": 15,
   "metadata": {},
   "outputs": [],
   "source": [
    "y0 = [0.0, 0.0, 149.6, 0.0, 1.49984,0.0, 0.0, 0.0, 0.0, 300.0,0.0,1000.0,0.0,0.0,0.0,0.0,0.0,0.0]\n",
    "#y = [a0i, a1i, b0i,     b1i, c0i,       c1i, a0j, a1j, b0j, b1j,     c0j, c1j, a0k, a1k, b0k, b1k, c0k, c1k]\n",
    "masses = [100,100,100]\n",
    "G = 6.674e-11\n",
    "t = np.linspace(0.0,25.0,100)\n",
    "ts = (0,25)"
   ]
  },
  {
   "cell_type": "code",
   "execution_count": 16,
   "metadata": {},
   "outputs": [],
   "source": [
    "def func(t,y):\n",
    "    system = np.zeros_like(y)\n",
    "    return ThreeBP(system,y,masses)"
   ]
  },
  {
   "cell_type": "code",
   "execution_count": 17,
   "metadata": {},
   "outputs": [],
   "source": [
    "def magnitude3(Rx,Ry):\n",
    "    mag = 0\n",
    "    for i in range(0,len(Rx)):\n",
    "        mag += np.power(Rx[i]-Ry[i],2)\n",
    "        \n",
    "    return np.power(mag,3/2)"
   ]
  },
  {
   "cell_type": "code",
   "execution_count": 18,
   "metadata": {},
   "outputs": [],
   "source": [
    "#assemble Three Body System of Equations\n",
    "def ThreeBP(system,y,masses):\n",
    "    R1 = [y[0],y[6],y[12]] #x1,y1,z1\n",
    "    R2 = [y[2],y[8],y[14]] #x2,y2,z2\n",
    "    R3 = [y[4],y[10],y[16]] #x3,y3,z3 \n",
    "    R = [R1,R2,R3]\n",
    "    \n",
    "    #generate i,j,k for mass 1\n",
    "    for i in [0,6,12]:\n",
    "        system[i] = y[i+1] \n",
    "        system[i+1] = -G*(masses[1]*(y[i+2]-y[i])/magnitude3(R[1],R[0])+masses[2]*(y[i+4]-y[i])/magnitude3(R[2],R[0])) \n",
    "\n",
    "    #generate i,j,k for mass 2\n",
    "    for i in [2,8,14]:\n",
    "        system[i] = y[i+1] \n",
    "        system[i+1] = -G*(masses[2]*(y[i+2]-y[i])/magnitude3(R[2],R[1])+masses[0]*(y[i-2]-y[i])/magnitude3(R[0],R[1]))\n",
    "        \n",
    "    #generate i,j,k for mass 3\n",
    "    for i in [4,10,16]:\n",
    "        system[i] = y[i+1] \n",
    "        system[i+1] = -G*(masses[0]*(y[i-4]-y[i])/magnitude3(R[0],R[2])+masses[1]*(y[i-2]-y[i])/magnitude3(R[1],R[2]))\n",
    "    \n",
    "    return system"
   ]
  },
  {
   "cell_type": "code",
   "execution_count": 19,
   "metadata": {},
   "outputs": [
    {
     "data": {
      "text/plain": [
       "array([[ 0.00000000e+00, -1.22195455e-12, -2.46418645e-12, ...,\n",
       "        -1.21966001e-10, -1.23224228e-10, -1.24482455e-10],\n",
       "       [ 0.00000000e+00, -4.89886919e-12, -4.93914719e-12, ...,\n",
       "        -4.98257701e-12, -4.98257764e-12, -4.98257824e-12],\n",
       "       [ 1.49600000e+02,  1.49600000e+02,  1.49600000e+02, ...,\n",
       "         1.49600000e+02,  1.49600000e+02,  1.49600000e+02],\n",
       "       ...,\n",
       "       [ 0.00000000e+00,  0.00000000e+00,  0.00000000e+00, ...,\n",
       "         0.00000000e+00,  0.00000000e+00,  0.00000000e+00],\n",
       "       [ 0.00000000e+00,  0.00000000e+00,  0.00000000e+00, ...,\n",
       "         0.00000000e+00,  0.00000000e+00,  0.00000000e+00],\n",
       "       [ 0.00000000e+00,  0.00000000e+00,  0.00000000e+00, ...,\n",
       "         0.00000000e+00,  0.00000000e+00,  0.00000000e+00]])"
      ]
     },
     "execution_count": 19,
     "metadata": {},
     "output_type": "execute_result"
    }
   ],
   "source": [
    "sol = solve_ivp(func, ts, y0, t_eval=t, method='RK45')\n",
    "sol.y"
   ]
  },
  {
   "cell_type": "code",
   "execution_count": 20,
   "metadata": {
    "scrolled": true
   },
   "outputs": [
    {
     "data": {
      "image/png": "[encoded data removed]",
      "text/plain": [
       "<Figure size 432x288 with 1 Axes>"
      ]
     },
     "metadata": {
      "needs_background": "light"
     },
     "output_type": "display_data"
    }
   ],
   "source": [
    "plt.plot(sol.y[2],sol.y[4])\n",
    "plt.xlim(-3,5)\n",
    "plt.ylim(-3,5)\n",
    "plt.show()"
   ]
  },
  {
   "cell_type": "code",
   "execution_count": null,
   "metadata": {},
   "outputs": [],
   "source": []
  }
 ],
 "metadata": {
  "kernelspec": {
   "display_name": "Python 3",
   "language": "python",
   "name": "python3"
  },
  "language_info": {
   "codemirror_mode": {
    "name": "ipython",
    "version": 3
   },
   "file_extension": ".py",
   "mimetype": "text/x-python",
   "name": "python",
   "nbconvert_exporter": "python",
   "pygments_lexer": "ipython3",
   "version": "3.7.2"
  }
 },
 "nbformat": 4,
 "nbformat_minor": 2
}
